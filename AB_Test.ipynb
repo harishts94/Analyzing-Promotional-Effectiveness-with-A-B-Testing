{
 "cells": [
  {
   "cell_type": "markdown",
   "id": "ef04c965-98ac-4496-b796-4dc1c70c0d80",
   "metadata": {},
   "source": [
    "# Analyzing Promotional Effectiveness with A/B Testing\n",
    "\n",
    "To increase customer acquisition for \"Delivery Club\" membership of a Retail store, we test the impact of different promotional mailers campaign on signup rates. Two mailer designs—basic (Mailer 1) and premium (Mailer 2)—were evaluated against a control group that received no mailer. The goal is to determine the effectiveness of the mailers and assess whether the premium version justifies its higher cost. Identifying this difference is crucial for optimizing marketing expenditures and ensuring cost-effective customer acquisition strategies.\n",
    "\n",
    "For this business challenge, we conduct an A/B Test, a statistical approach for comparing two variations (Mailer 1 and Mailer 2) by analyzing the differences in their signup rates. This method ensures a data-driven conclusion on whether the premium mailer significantly outperforms the basic version."
   ]
  },
  {
   "cell_type": "markdown",
   "id": "f05ccc3c-23b3-4bbd-9d80-3cc3e92d441f",
   "metadata": {},
   "source": [
    "### A/B Test\n",
    "\n",
    "An A/B Test is a randomised experiment containing two groups, A & B that receive different experiences.\n",
    "Within an A/B Test, we look to understand and measure the response of each group."
   ]
  },
  {
   "cell_type": "markdown",
   "id": "9c0c34dd-ad8a-4de9-ac25-ddd96b671866",
   "metadata": {},
   "source": [
    "### Import required packages"
   ]
  },
  {
   "cell_type": "code",
   "execution_count": 5,
   "id": "2407b0b5-1cd2-4a6f-b36d-13a76062a923",
   "metadata": {},
   "outputs": [],
   "source": [
    "import pandas as pd\n",
    "from scipy.stats import chi2_contingency, chi2 "
   ]
  },
  {
   "cell_type": "markdown",
   "id": "7c5b82fb-b7b2-4e2b-b3e9-d8c3b46ea3fe",
   "metadata": {},
   "source": [
    "`chi2_contingency` allows us to compute p-values and the chi square statistics\n",
    "\n",
    "`chi2` (chi square) will allow us to find the critical value on our acceptance criteria"
   ]
  },
  {
   "cell_type": "markdown",
   "id": "57e4cccd-5135-4784-8f36-65514dc2aec5",
   "metadata": {},
   "source": [
    "### Importing and overview of the data"
   ]
  },
  {
   "cell_type": "code",
   "execution_count": 8,
   "id": "820ba6e4-0064-4153-8b10-7b46867ce432",
   "metadata": {},
   "outputs": [
    {
     "name": "stdout",
     "output_type": "stream",
     "text": [
      "<class 'pandas.core.frame.DataFrame'>\n",
      "RangeIndex: 870 entries, 0 to 869\n",
      "Data columns (total 5 columns):\n",
      " #   Column         Non-Null Count  Dtype         \n",
      "---  ------         --------------  -----         \n",
      " 0   customer_id    870 non-null    int64         \n",
      " 1   campaign_name  870 non-null    object        \n",
      " 2   campaign_date  870 non-null    datetime64[ns]\n",
      " 3   mailer_type    870 non-null    object        \n",
      " 4   signup_flag    870 non-null    int64         \n",
      "dtypes: datetime64[ns](1), int64(2), object(2)\n",
      "memory usage: 34.1+ KB\n"
     ]
    },
    {
     "data": {
      "text/html": [
       "<div>\n",
       "<style scoped>\n",
       "    .dataframe tbody tr th:only-of-type {\n",
       "        vertical-align: middle;\n",
       "    }\n",
       "\n",
       "    .dataframe tbody tr th {\n",
       "        vertical-align: top;\n",
       "    }\n",
       "\n",
       "    .dataframe thead th {\n",
       "        text-align: right;\n",
       "    }\n",
       "</style>\n",
       "<table border=\"1\" class=\"dataframe\">\n",
       "  <thead>\n",
       "    <tr style=\"text-align: right;\">\n",
       "      <th></th>\n",
       "      <th>customer_id</th>\n",
       "      <th>campaign_name</th>\n",
       "      <th>campaign_date</th>\n",
       "      <th>mailer_type</th>\n",
       "      <th>signup_flag</th>\n",
       "    </tr>\n",
       "  </thead>\n",
       "  <tbody>\n",
       "    <tr>\n",
       "      <th>0</th>\n",
       "      <td>74</td>\n",
       "      <td>delivery_club</td>\n",
       "      <td>2020-07-01</td>\n",
       "      <td>Mailer1</td>\n",
       "      <td>1</td>\n",
       "    </tr>\n",
       "    <tr>\n",
       "      <th>1</th>\n",
       "      <td>524</td>\n",
       "      <td>delivery_club</td>\n",
       "      <td>2020-07-01</td>\n",
       "      <td>Mailer1</td>\n",
       "      <td>1</td>\n",
       "    </tr>\n",
       "    <tr>\n",
       "      <th>2</th>\n",
       "      <td>607</td>\n",
       "      <td>delivery_club</td>\n",
       "      <td>2020-07-01</td>\n",
       "      <td>Mailer2</td>\n",
       "      <td>1</td>\n",
       "    </tr>\n",
       "    <tr>\n",
       "      <th>3</th>\n",
       "      <td>343</td>\n",
       "      <td>delivery_club</td>\n",
       "      <td>2020-07-01</td>\n",
       "      <td>Mailer1</td>\n",
       "      <td>0</td>\n",
       "    </tr>\n",
       "    <tr>\n",
       "      <th>4</th>\n",
       "      <td>322</td>\n",
       "      <td>delivery_club</td>\n",
       "      <td>2020-07-01</td>\n",
       "      <td>Mailer2</td>\n",
       "      <td>1</td>\n",
       "    </tr>\n",
       "  </tbody>\n",
       "</table>\n",
       "</div>"
      ],
      "text/plain": [
       "   customer_id  campaign_name campaign_date mailer_type  signup_flag\n",
       "0           74  delivery_club    2020-07-01     Mailer1            1\n",
       "1          524  delivery_club    2020-07-01     Mailer1            1\n",
       "2          607  delivery_club    2020-07-01     Mailer2            1\n",
       "3          343  delivery_club    2020-07-01     Mailer1            0\n",
       "4          322  delivery_club    2020-07-01     Mailer2            1"
      ]
     },
     "execution_count": 8,
     "metadata": {},
     "output_type": "execute_result"
    }
   ],
   "source": [
    "#Importing the data\n",
    "campaign_data = pd.read_excel(\"retail_store_database.xlsx\", sheet_name= \"campaign_data\")\n",
    "\n",
    "#Overview of the data\n",
    "campaign_data.info()\n",
    "campaign_data.head()"
   ]
  },
  {
   "cell_type": "markdown",
   "id": "1edf7068-4afc-49a3-87b8-190f414769f5",
   "metadata": {},
   "source": [
    "### Filtering the data\n",
    "\n",
    "Mailer type \"Control\" is excluded as the customers in this mailer category did not recieve any mails. "
   ]
  },
  {
   "cell_type": "code",
   "execution_count": 15,
   "id": "f56cd363-96b0-4643-9852-bba47e12ed5b",
   "metadata": {},
   "outputs": [
    {
     "data": {
      "text/html": [
       "<div>\n",
       "<style scoped>\n",
       "    .dataframe tbody tr th:only-of-type {\n",
       "        vertical-align: middle;\n",
       "    }\n",
       "\n",
       "    .dataframe tbody tr th {\n",
       "        vertical-align: top;\n",
       "    }\n",
       "\n",
       "    .dataframe thead th {\n",
       "        text-align: right;\n",
       "    }\n",
       "</style>\n",
       "<table border=\"1\" class=\"dataframe\">\n",
       "  <thead>\n",
       "    <tr style=\"text-align: right;\">\n",
       "      <th></th>\n",
       "      <th>customer_id</th>\n",
       "      <th>campaign_name</th>\n",
       "      <th>campaign_date</th>\n",
       "      <th>mailer_type</th>\n",
       "      <th>signup_flag</th>\n",
       "    </tr>\n",
       "  </thead>\n",
       "  <tbody>\n",
       "    <tr>\n",
       "      <th>0</th>\n",
       "      <td>74</td>\n",
       "      <td>delivery_club</td>\n",
       "      <td>2020-07-01</td>\n",
       "      <td>Mailer1</td>\n",
       "      <td>1</td>\n",
       "    </tr>\n",
       "    <tr>\n",
       "      <th>1</th>\n",
       "      <td>524</td>\n",
       "      <td>delivery_club</td>\n",
       "      <td>2020-07-01</td>\n",
       "      <td>Mailer1</td>\n",
       "      <td>1</td>\n",
       "    </tr>\n",
       "    <tr>\n",
       "      <th>2</th>\n",
       "      <td>607</td>\n",
       "      <td>delivery_club</td>\n",
       "      <td>2020-07-01</td>\n",
       "      <td>Mailer2</td>\n",
       "      <td>1</td>\n",
       "    </tr>\n",
       "    <tr>\n",
       "      <th>3</th>\n",
       "      <td>343</td>\n",
       "      <td>delivery_club</td>\n",
       "      <td>2020-07-01</td>\n",
       "      <td>Mailer1</td>\n",
       "      <td>0</td>\n",
       "    </tr>\n",
       "    <tr>\n",
       "      <th>4</th>\n",
       "      <td>322</td>\n",
       "      <td>delivery_club</td>\n",
       "      <td>2020-07-01</td>\n",
       "      <td>Mailer2</td>\n",
       "      <td>1</td>\n",
       "    </tr>\n",
       "    <tr>\n",
       "      <th>...</th>\n",
       "      <td>...</td>\n",
       "      <td>...</td>\n",
       "      <td>...</td>\n",
       "      <td>...</td>\n",
       "      <td>...</td>\n",
       "    </tr>\n",
       "    <tr>\n",
       "      <th>863</th>\n",
       "      <td>765</td>\n",
       "      <td>delivery_club</td>\n",
       "      <td>2020-07-01</td>\n",
       "      <td>Mailer2</td>\n",
       "      <td>1</td>\n",
       "    </tr>\n",
       "    <tr>\n",
       "      <th>864</th>\n",
       "      <td>466</td>\n",
       "      <td>delivery_club</td>\n",
       "      <td>2020-07-01</td>\n",
       "      <td>Mailer1</td>\n",
       "      <td>1</td>\n",
       "    </tr>\n",
       "    <tr>\n",
       "      <th>865</th>\n",
       "      <td>372</td>\n",
       "      <td>delivery_club</td>\n",
       "      <td>2020-07-01</td>\n",
       "      <td>Mailer2</td>\n",
       "      <td>1</td>\n",
       "    </tr>\n",
       "    <tr>\n",
       "      <th>866</th>\n",
       "      <td>104</td>\n",
       "      <td>delivery_club</td>\n",
       "      <td>2020-07-01</td>\n",
       "      <td>Mailer1</td>\n",
       "      <td>1</td>\n",
       "    </tr>\n",
       "    <tr>\n",
       "      <th>867</th>\n",
       "      <td>393</td>\n",
       "      <td>delivery_club</td>\n",
       "      <td>2020-07-01</td>\n",
       "      <td>Mailer2</td>\n",
       "      <td>1</td>\n",
       "    </tr>\n",
       "  </tbody>\n",
       "</table>\n",
       "<p>711 rows × 5 columns</p>\n",
       "</div>"
      ],
      "text/plain": [
       "     customer_id  campaign_name campaign_date mailer_type  signup_flag\n",
       "0             74  delivery_club    2020-07-01     Mailer1            1\n",
       "1            524  delivery_club    2020-07-01     Mailer1            1\n",
       "2            607  delivery_club    2020-07-01     Mailer2            1\n",
       "3            343  delivery_club    2020-07-01     Mailer1            0\n",
       "4            322  delivery_club    2020-07-01     Mailer2            1\n",
       "..           ...            ...           ...         ...          ...\n",
       "863          765  delivery_club    2020-07-01     Mailer2            1\n",
       "864          466  delivery_club    2020-07-01     Mailer1            1\n",
       "865          372  delivery_club    2020-07-01     Mailer2            1\n",
       "866          104  delivery_club    2020-07-01     Mailer1            1\n",
       "867          393  delivery_club    2020-07-01     Mailer2            1\n",
       "\n",
       "[711 rows x 5 columns]"
      ]
     },
     "execution_count": 15,
     "metadata": {},
     "output_type": "execute_result"
    }
   ],
   "source": [
    "campaign_data = campaign_data.loc[campaign_data[\"mailer_type\"] != \"Control\"]\n",
    "campaign_data"
   ]
  },
  {
   "cell_type": "markdown",
   "id": "efca94b4-b34c-4dd3-a307-9bcbd0efd452",
   "metadata": {},
   "source": [
    "### Summarize to get the observed frequency"
   ]
  },
  {
   "cell_type": "code",
   "execution_count": 19,
   "id": "b43df72e-b8b2-4cc9-ba43-340648e32967",
   "metadata": {},
   "outputs": [
    {
     "name": "stdout",
     "output_type": "stream",
     "text": [
      "[[252 123]\n",
      " [209 127]]\n"
     ]
    }
   ],
   "source": [
    "observed_values = pd.crosstab(campaign_data[\"mailer_type\"], campaign_data[\"signup_flag\"]).values\n",
    "print(observed_values)"
   ]
  },
  {
   "cell_type": "markdown",
   "id": "27d04a36-00dc-4bb3-a679-e85e3c729765",
   "metadata": {},
   "source": [
    "`crosstab` will help to create a 2x2 matrix required for the chi square test. \n",
    "`.values` will return the output as an array"
   ]
  },
  {
   "cell_type": "code",
   "execution_count": 22,
   "id": "64579993-486a-419a-afad-42a62f48a782",
   "metadata": {},
   "outputs": [
    {
     "name": "stdout",
     "output_type": "stream",
     "text": [
      "Customer sign-up rate for Mailer1: 0.328\n",
      "Customer sign-up rate for Mailer2: 0.378\n"
     ]
    }
   ],
   "source": [
    "mailer1_signup_rate = round(observed_values[0][1]/ (observed_values[0][0] + observed_values[0][1]), 3)\n",
    "mailer2_signup_rate = round(observed_values[1][1]/ (observed_values[1][0] + observed_values[1][1]), 3)\n",
    "print(f\"Customer sign-up rate for Mailer1: {mailer1_signup_rate}\\nCustomer sign-up rate for Mailer2: {mailer2_signup_rate}\")"
   ]
  },
  {
   "cell_type": "markdown",
   "id": "89a1e965-d670-440d-ac4e-06d67ea29b66",
   "metadata": {},
   "source": [
    "### State hypothesis & set acceptance criteria"
   ]
  },
  {
   "cell_type": "code",
   "execution_count": 25,
   "id": "322000bb-e010-4ac3-8508-978ef4497212",
   "metadata": {},
   "outputs": [],
   "source": [
    "null_hypothesis = \"There is no relationship between mailer type and the signup rate. They are independent.\"\n",
    "alternative_hypothesis = \"There is a relationship between mailer type and the signup rate. They are not independent.\"\n",
    "acceptance_criteria = 0.05"
   ]
  },
  {
   "cell_type": "markdown",
   "id": "f7f9df94-3a9c-4ff3-9a3c-66bd9f6e9b06",
   "metadata": {},
   "source": [
    "### Calculate the expected frequencies & chi-square statistic"
   ]
  },
  {
   "cell_type": "code",
   "execution_count": 28,
   "id": "9fc5cdc1-3bfc-44f1-9d5a-e1043c5631a4",
   "metadata": {},
   "outputs": [
    {
     "name": "stdout",
     "output_type": "stream",
     "text": [
      "1.9414468614812481 0.16351152223398197 1 [[243.14345992 131.85654008]\n",
      " [217.85654008 118.14345992]]\n"
     ]
    }
   ],
   "source": [
    "chi2_statistic, p_value, dof, expected_values = chi2_contingency(observed_values, correction= False,)\n",
    "print(chi2_statistic, p_value, dof, expected_values)"
   ]
  },
  {
   "cell_type": "markdown",
   "id": "99da1449-e84b-4e65-a25d-8a782c2e16f2",
   "metadata": {},
   "source": [
    "`correction` refers to Yates correction, if the degrees of freedom are equal to 1, and in this case we are using 2x2 matrix,\n",
    "we are setting Yates correction to false\n",
    "\n",
    "if p_value is > acceptance criteria (0.05) then we accept/ retain the the null hypothesis.\n",
    "\n",
    "if p_value is < acceptance criteria (0.05) then we reject the null hypothesis."
   ]
  },
  {
   "cell_type": "markdown",
   "id": "a1a0de91-1936-488a-814d-762487cd7f3c",
   "metadata": {},
   "source": [
    "### Finding the critical value for the chi-square test"
   ]
  },
  {
   "cell_type": "code",
   "execution_count": 32,
   "id": "557ccf63-21f1-4956-ab7e-447c2de92c35",
   "metadata": {},
   "outputs": [
    {
     "name": "stdout",
     "output_type": "stream",
     "text": [
      "3.841458820694124\n"
     ]
    }
   ],
   "source": [
    "critical_value = chi2.ppf(1 - acceptance_criteria, dof)\n",
    "print(critical_value)"
   ]
  },
  {
   "cell_type": "markdown",
   "id": "e7b5bd35-7b7e-44b5-850e-c898157a7c77",
   "metadata": {},
   "source": [
    "`ppf` is percentage point function, it will find the critical value along the chi-squared distribuition based on the acceptance criteria."
   ]
  },
  {
   "cell_type": "markdown",
   "id": "cdf194e9-d0a1-4874-89db-c804015d5748",
   "metadata": {},
   "source": [
    "### Printing the results (Chi-square statistic)"
   ]
  },
  {
   "cell_type": "code",
   "execution_count": 36,
   "id": "8c3d1ddd-b56e-45ed-9ac7-2feb1012fcec",
   "metadata": {},
   "outputs": [
    {
     "name": "stdout",
     "output_type": "stream",
     "text": [
      "As our chi-square statistic of 1.9414468614812481 is lower than our critical value of 3.841458820694124 - we retain the null hypothesis, and conclude that: There is no relationship between mailer type and the signup rate. They are independent.\n"
     ]
    }
   ],
   "source": [
    "if chi2_statistic >= critical_value:\n",
    "    print(f\"As our chi-square statistic of {chi2_statistic} is higher than our critical value of {critical_value} - we reject the null hypothesis, and conclude that: {alternative_hypothesis}\")\n",
    "else:\n",
    "    print(f\"As our chi-square statistic of {chi2_statistic} is lower than our critical value of {critical_value} - we retain the null hypothesis, and conclude that: {null_hypothesis}\")"
   ]
  },
  {
   "cell_type": "markdown",
   "id": "8c91673f-99c6-4d2e-a1ca-ad0459742e9c",
   "metadata": {},
   "source": [
    "### Printing the results (p-value)"
   ]
  },
  {
   "cell_type": "code",
   "execution_count": 39,
   "id": "3b11dc10-df19-43eb-a3ba-c623806d1704",
   "metadata": {},
   "outputs": [
    {
     "name": "stdout",
     "output_type": "stream",
     "text": [
      "As our p-value of 0.16351152223398197 is higher than our acceptance criteria of 0.05 - we retain the null hypothesis, and conclude that: There is no relationship between mailer type and the signup rate. They are independent.\n"
     ]
    }
   ],
   "source": [
    "if p_value <= acceptance_criteria:\n",
    "    print(f\"As our p-value of {p_value} is lower than our acceptance criteria of {acceptance_criteria} - we reject the null hypothesis, and conclude that: {alternative_hypothesis}\")\n",
    "else:\n",
    "    print(f\"As our p-value of {p_value} is higher than our acceptance criteria of {acceptance_criteria} - we retain the null hypothesis, and conclude that: {null_hypothesis}\")"
   ]
  },
  {
   "cell_type": "markdown",
   "id": "419fdb40-e64c-4097-836f-28c2166ac6b9",
   "metadata": {},
   "source": [
    "### Interpreting the test result\n",
    "\n",
    "The analysis revealed that while the signup rate for the premium mailer (Mailer 2) was slightly higher than the basic mailer (Mailer 1), the difference was not statistically significant based on the predefined acceptance criteria (p-value < 0.05). This indicates that the marketing team should avoid drawing strong conclusions about the superiority of the premium mailer. Without the test, the business might have assumed the premium mailer to be more effective, potentially leading to unnecessary expenses without delivering significant additional revenue over time.\n",
    "\n",
    "The findings guide the marketing team to adopt a more cost-conscious approach, optimizing resources without compromising customer acquisition goals. This project showcases the practical application of A/B testing to align marketing efforts with business objectives and ensure sustainable revenue growth."
   ]
  }
 ],
 "metadata": {
  "kernelspec": {
   "display_name": "Python 3 (ipykernel)",
   "language": "python",
   "name": "python3"
  },
  "language_info": {
   "codemirror_mode": {
    "name": "ipython",
    "version": 3
   },
   "file_extension": ".py",
   "mimetype": "text/x-python",
   "name": "python",
   "nbconvert_exporter": "python",
   "pygments_lexer": "ipython3",
   "version": "3.12.4"
  }
 },
 "nbformat": 4,
 "nbformat_minor": 5
}
